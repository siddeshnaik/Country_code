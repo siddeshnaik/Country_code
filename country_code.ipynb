{
  "nbformat": 4,
  "nbformat_minor": 0,
  "metadata": {
    "colab": {
      "name": "country_code.ipynb",
      "provenance": [],
      "private_outputs": true,
      "collapsed_sections": [],
      "authorship_tag": "ABX9TyO1zq7kmA6FrMJE68Y7//Cr",
      "include_colab_link": true
    },
    "kernelspec": {
      "name": "python3",
      "display_name": "Python 3"
    }
  },
  "cells": [
    {
      "cell_type": "markdown",
      "metadata": {
        "id": "view-in-github",
        "colab_type": "text"
      },
      "source": [
        "<a href=\"https://colab.research.google.com/github/siddeshnaik/Country_code/blob/master/country_code.ipynb\" target=\"_parent\"><img src=\"https://colab.research.google.com/assets/colab-badge.svg\" alt=\"Open In Colab\"/></a>"
      ]
    },
    {
      "cell_type": "code",
      "metadata": {
        "id": "DtA4AGxA4ZyA",
        "colab_type": "code",
        "colab": {}
      },
      "source": [
        "import pandas as pd\n",
        "import numpy as np"
      ],
      "execution_count": null,
      "outputs": []
    },
    {
      "cell_type": "code",
      "metadata": {
        "id": "FLMjC4ZE5BiK",
        "colab_type": "code",
        "colab": {}
      },
      "source": [
        "df_main = pd.read_excel(r\"/content/Test file.xlsx\")\n",
        "df_main"
      ],
      "execution_count": null,
      "outputs": []
    },
    {
      "cell_type": "code",
      "metadata": {
        "id": "SkKtcnRy5MhN",
        "colab_type": "code",
        "colab": {}
      },
      "source": [
        "country_names = np.array(df_main.Country)\n",
        "country_names"
      ],
      "execution_count": null,
      "outputs": []
    },
    {
      "cell_type": "code",
      "metadata": {
        "id": "y9QR-SuL5YoE",
        "colab_type": "code",
        "colab": {}
      },
      "source": [
        "country_names = np.unique(country_names)\n",
        "country_names"
      ],
      "execution_count": null,
      "outputs": []
    },
    {
      "cell_type": "code",
      "metadata": {
        "id": "yIGIETAH5g37",
        "colab_type": "code",
        "colab": {}
      },
      "source": [
        "df_coun_code = pd.read_csv(r\"/content/Country-codes.csv\")\n",
        "df_coun_code"
      ],
      "execution_count": null,
      "outputs": []
    },
    {
      "cell_type": "code",
      "metadata": {
        "id": "4My9IeGe5jWg",
        "colab_type": "code",
        "colab": {}
      },
      "source": [
        "df_coun_code = df_coun_code.loc[:,[\"Country \",\"International dialing\"]]\n",
        "df_coun_code"
      ],
      "execution_count": null,
      "outputs": []
    },
    {
      "cell_type": "code",
      "metadata": {
        "id": "DbNR0jE269f9",
        "colab_type": "code",
        "colab": {}
      },
      "source": [
        "count = 0\n",
        "df_main[\"Cleaning\"]=df_main.Phone\n",
        "for i in range(len(df_main.Phone)):\n",
        "    string= str(df_main.Phone.iloc[i])\n",
        "    df_main[\"Cleaning\"].iloc[i] = string.replace(\"-\",\" \").replace(\"(\",\" \").replace(\")\",\" \").replace('#',\" \").replace(\"'\",\" \").replace(\"\\\\\", \"\").replace(\"/\",\" \")"
      ],
      "execution_count": null,
      "outputs": []
    },
    {
      "cell_type": "code",
      "metadata": {
        "id": "4GPDpVKN9LJr",
        "colab_type": "code",
        "colab": {}
      },
      "source": [
        "df_main.iloc[150:165,:]"
      ],
      "execution_count": null,
      "outputs": []
    },
    {
      "cell_type": "code",
      "metadata": {
        "id": "NTQimjykA0PT",
        "colab_type": "code",
        "colab": {}
      },
      "source": [
        "df_coun_code"
      ],
      "execution_count": null,
      "outputs": []
    },
    {
      "cell_type": "code",
      "metadata": {
        "id": "1EGEVQp9A7Io",
        "colab_type": "code",
        "colab": {}
      },
      "source": [
        "df_coun_code.iloc[4:15,:]"
      ],
      "execution_count": null,
      "outputs": []
    },
    {
      "cell_type": "code",
      "metadata": {
        "id": "n2OM6MODCSUc",
        "colab_type": "code",
        "colab": {}
      },
      "source": [
        "coun_name_df_coun = np.array(df_coun_code.iloc[:,:])\n",
        "coun_name_df_coun"
      ],
      "execution_count": null,
      "outputs": []
    },
    {
      "cell_type": "code",
      "metadata": {
        "id": "p9g4CDNSRni4",
        "colab_type": "code",
        "colab": {}
      },
      "source": [
        "for i in range(len(coun_name_df_coun)):\n",
        "    coun_name_df_coun[i,0] = coun_name_df_coun[i,0].strip()"
      ],
      "execution_count": null,
      "outputs": []
    },
    {
      "cell_type": "code",
      "metadata": {
        "id": "b8MOCXjWVvuT",
        "colab_type": "code",
        "colab": {}
      },
      "source": [
        "coun_name_df_coun"
      ],
      "execution_count": null,
      "outputs": []
    },
    {
      "cell_type": "code",
      "metadata": {
        "id": "J5bJbE7SXB3I",
        "colab_type": "code",
        "colab": {}
      },
      "source": [
        "df_main[\"Country_code\"] = df_main.Country\n",
        "for i in range(len(df_main)):\n",
        "    for ii in range(len(coun_name_df_coun)):\n",
        "        if df_main.iloc[i,0] == coun_name_df_coun[ii,0]:\n",
        "            df_main.iloc[i,4] = coun_name_df_coun[ii,1]"
      ],
      "execution_count": null,
      "outputs": []
    },
    {
      "cell_type": "code",
      "metadata": {
        "id": "-9IcPVWRXXFY",
        "colab_type": "code",
        "colab": {}
      },
      "source": [
        "value=np.array(df_main.Country_code)\n",
        "value = np.unique(value)\n",
        "value"
      ],
      "execution_count": null,
      "outputs": []
    },
    {
      "cell_type": "code",
      "metadata": {
        "id": "sKC7YLpZZByG",
        "colab_type": "code",
        "colab": {}
      },
      "source": [
        "#korea and Korea, Republic of are taken as south korea\n",
        "df_main[\"Country_code\"] = df_main[\"Country_code\"].replace(\"Indonesia\",\"+62\").replace(\"Jordan\",\"+962\").replace(\"Namibia\",\"+264\").replace(\"Pakistan\",\"+92\").replace(\"Palestine\",\"+970\").replace('South Africa',\"+27\").replace('South Korea',\"+82\").replace('Thailand',\"+66\").replace('United Arab Emirates',\"+971\").replace('United Kingdom',\"+44\").replace(\"Korea, Republic of\",\"+82\").replace(\"Korea\",\"+82\")"
      ],
      "execution_count": null,
      "outputs": []
    },
    {
      "cell_type": "code",
      "metadata": {
        "id": "OIZTsTKcdS4K",
        "colab_type": "code",
        "colab": {}
      },
      "source": [
        "df_main"
      ],
      "execution_count": null,
      "outputs": []
    },
    {
      "cell_type": "code",
      "metadata": {
        "id": "lrO3eqO0jzSA",
        "colab_type": "code",
        "colab": {}
      },
      "source": [
        "# va = np.array(df_main.Country_code)\n",
        "# va = str(va)\n",
        "# va"
      ],
      "execution_count": null,
      "outputs": []
    },
    {
      "cell_type": "code",
      "metadata": {
        "id": "3fUI9Pt2dVaE",
        "colab_type": "code",
        "colab": {}
      },
      "source": [
        "# df_main.to_excel(\"Test_Pre_Final.xlsx\")"
      ],
      "execution_count": null,
      "outputs": []
    },
    {
      "cell_type": "code",
      "metadata": {
        "id": "wGpa6IDvdqG4",
        "colab_type": "code",
        "colab": {}
      },
      "source": [
        "# df = pd.read_excel(r\"/content/Test_Pre_Final.xlsx\")\n",
        "# df.head()"
      ],
      "execution_count": null,
      "outputs": []
    },
    {
      "cell_type": "code",
      "metadata": {
        "id": "pXISZM8Ze0x-",
        "colab_type": "code",
        "colab": {}
      },
      "source": [
        "# \"+27 21 797 23 44\".find(\"21\")"
      ],
      "execution_count": null,
      "outputs": []
    },
    {
      "cell_type": "code",
      "metadata": {
        "id": "Hfl2y_fwf9IM",
        "colab_type": "code",
        "colab": {}
      },
      "source": [
        ""
      ],
      "execution_count": null,
      "outputs": []
    }
  ]
}